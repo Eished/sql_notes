{
 "cells": [
  {
   "cell_type": "markdown",
   "metadata": {},
   "source": [
    "# 4-4 实战部署 Python 的 MySQL 驱动类库"
   ]
  },
  {
   "cell_type": "code",
   "execution_count": 15,
   "metadata": {},
   "outputs": [
    {
     "name": "stdout",
     "output_type": "stream",
     "text": [
      "user:eis host:%\n",
      "user:root host:%\n",
      "user:debian-sys-maint host:localhost\n",
      "user:mysql.infoschema host:localhost\n",
      "user:mysql.session host:localhost\n",
      "user:mysql.sys host:localhost\n"
     ]
    }
   ],
   "source": [
    "import pymysql\n",
    "\n",
    "db_host = 'localhost'\n",
    "db_user = 'root'\n",
    "db_pass = 'root'\n",
    "db_database = 'mysql'\n",
    "db_port = 3306\n",
    "\n",
    "if __name__ == '__main__':\n",
    "    conn = pymysql.connect(host=db_host, port=db_port,\n",
    "                           user=db_user, passwd=db_pass, db=db_database)\n",
    "    sqlstr=\"\"\"\n",
    "      select user,host from user\n",
    "    \"\"\"\n",
    "    cursor = conn.cursor()\n",
    "    cursor.execute(sqlstr)\n",
    "    result = cursor.fetchall()\n",
    "    for i in result:\n",
    "      print(\"user:%s host:%s\"%(i[0],i[1]))\n",
    "    conn.close()\n"
   ]
  }
 ],
 "metadata": {
  "kernelspec": {
   "display_name": "Python 3.10.4 ('study': conda)",
   "language": "python",
   "name": "python3"
  },
  "language_info": {
   "codemirror_mode": {
    "name": "ipython",
    "version": 3
   },
   "file_extension": ".py",
   "mimetype": "text/x-python",
   "name": "python",
   "nbconvert_exporter": "python",
   "pygments_lexer": "ipython3",
   "version": "3.10.4"
  },
  "orig_nbformat": 4,
  "vscode": {
   "interpreter": {
    "hash": "b8462015e17e872b1ed1c5fe434b9376ead747c40192f46f8807d616cee721fd"
   }
  }
 },
 "nbformat": 4,
 "nbformat_minor": 2
}
